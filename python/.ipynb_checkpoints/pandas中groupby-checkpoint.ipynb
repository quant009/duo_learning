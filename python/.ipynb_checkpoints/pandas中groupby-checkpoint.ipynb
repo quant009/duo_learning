{
 "cells": [
  {
   "cell_type": "markdown",
   "metadata": {},
   "source": [
    "# Groupby"
   ]
  },
  {
   "cell_type": "markdown",
   "metadata": {},
   "source": [
    "## 基础"
   ]
  },
  {
   "cell_type": "markdown",
   "metadata": {},
   "source": [
    "### 导入库"
   ]
  },
  {
   "cell_type": "code",
   "execution_count": 30,
   "metadata": {},
   "outputs": [],
   "source": [
    "import numpy as np\n",
    "import pandas as pd"
   ]
  },
  {
   "cell_type": "markdown",
   "metadata": {},
   "source": [
    "### 生成数据"
   ]
  },
  {
   "cell_type": "code",
   "execution_count": 31,
   "metadata": {},
   "outputs": [],
   "source": [
    "df1 = pd.DataFrame([('bird', 'Falconiformes', 389.0),\n",
    "                    ('bird', 'Psittaciformes', 24.0),\n",
    "                   ('mammal', 'Carnivora', 80.2),\n",
    "                 ('mammal', 'Primates', np.nan),\n",
    "                  ('mammal', 'Carnivora', 58)],\n",
    "                  index=['falcon', 'parrot', 'lion', 'monkey', 'leopard'],\n",
    "                  columns=('class', 'order', 'max_speed'))"
   ]
  },
  {
   "cell_type": "code",
   "execution_count": 32,
   "metadata": {},
   "outputs": [
    {
     "data": {
      "text/html": [
       "<div>\n",
       "<style scoped>\n",
       "    .dataframe tbody tr th:only-of-type {\n",
       "        vertical-align: middle;\n",
       "    }\n",
       "\n",
       "    .dataframe tbody tr th {\n",
       "        vertical-align: top;\n",
       "    }\n",
       "\n",
       "    .dataframe thead th {\n",
       "        text-align: right;\n",
       "    }\n",
       "</style>\n",
       "<table border=\"1\" class=\"dataframe\">\n",
       "  <thead>\n",
       "    <tr style=\"text-align: right;\">\n",
       "      <th></th>\n",
       "      <th>class</th>\n",
       "      <th>order</th>\n",
       "      <th>max_speed</th>\n",
       "    </tr>\n",
       "  </thead>\n",
       "  <tbody>\n",
       "    <tr>\n",
       "      <th>falcon</th>\n",
       "      <td>bird</td>\n",
       "      <td>Falconiformes</td>\n",
       "      <td>389.0</td>\n",
       "    </tr>\n",
       "    <tr>\n",
       "      <th>parrot</th>\n",
       "      <td>bird</td>\n",
       "      <td>Psittaciformes</td>\n",
       "      <td>24.0</td>\n",
       "    </tr>\n",
       "    <tr>\n",
       "      <th>lion</th>\n",
       "      <td>mammal</td>\n",
       "      <td>Carnivora</td>\n",
       "      <td>80.2</td>\n",
       "    </tr>\n",
       "    <tr>\n",
       "      <th>monkey</th>\n",
       "      <td>mammal</td>\n",
       "      <td>Primates</td>\n",
       "      <td>NaN</td>\n",
       "    </tr>\n",
       "    <tr>\n",
       "      <th>leopard</th>\n",
       "      <td>mammal</td>\n",
       "      <td>Carnivora</td>\n",
       "      <td>58.0</td>\n",
       "    </tr>\n",
       "  </tbody>\n",
       "</table>\n",
       "</div>"
      ],
      "text/plain": [
       "          class           order  max_speed\n",
       "falcon     bird   Falconiformes      389.0\n",
       "parrot     bird  Psittaciformes       24.0\n",
       "lion     mammal       Carnivora       80.2\n",
       "monkey   mammal        Primates        NaN\n",
       "leopard  mammal       Carnivora       58.0"
      ]
     },
     "execution_count": 32,
     "metadata": {},
     "output_type": "execute_result"
    }
   ],
   "source": [
    "df1"
   ]
  },
  {
   "cell_type": "markdown",
   "metadata": {},
   "source": [
    "### GroupBy对象\n",
    "\n",
    "GroupBy对象是pandas.DataFrame.groupby或pandas.Series.groupby的返回值。\\\n",
    "pandas.DataFrame.groupby: https://pandas.pydata.org/docs/reference/api/pandas.DataFrame.groupby.html#pandas.DataFrame.groupby \\\n",
    "pandas.Series.groupby: https://pandas.pydata.org/docs/reference/api/pandas.Series.groupby.html#pandas.Series.groupby"
   ]
  },
  {
   "cell_type": "markdown",
   "metadata": {},
   "source": [
    "#### 创建Groupby对象\n",
    "\n",
    "创建Groupby对象需要我们建立一个映射关系(mapping)，即什么值对应什么分组。这种mapping可以是以下6种类型：\n",
    "\n",
    "1.A Python function, to be called on each of the axis labels.\\\n",
    "2.A list or NumPy array of the same length as the selected axis.\\\n",
    "3.A dict or Series, providing a label -> group name mapping.\\\n",
    "4.For DataFrame objects, a string indicating a column to be used to group. Of course df.groupby('A') is just syntactic sugar for df.groupby(df['A']), but it makes life simpler.\\\n",
    "5.For DataFrame objects, a string indicating an index level to be used to group.\\\n",
    "6.A list of any of the above things."
   ]
  },
  {
   "cell_type": "markdown",
   "metadata": {},
   "source": [
    "1.根据一个函数分组。\\\n",
    "（1）axis=0(默认),该函数输入为DataFrame的index的一个值，返回的是分类标签。\\\n",
    "（2）axis=1，该函数输入为DataFrame的column的一个值，返回的是分类标签。"
   ]
  },
  {
   "cell_type": "code",
   "execution_count": 33,
   "metadata": {},
   "outputs": [],
   "source": [
    "#bird分一组，mammal分一组\n",
    "def classify_by_index(series):\n",
    "    if series in ['parrot','falcon']:\n",
    "        return 'bird'\n",
    "    elif series in ['lion','monkey','leopard']:\n",
    "        return 'mammal'"
   ]
  },
  {
   "cell_type": "code",
   "execution_count": 84,
   "metadata": {},
   "outputs": [],
   "source": [
    "grouped_func1 = df1.groupby(classify_by_index,axis=0)  #axis=0可以省略，axis=0是默认值\n",
    "#grouped_func1 = df1.groupby(classify_by_index,axis='index')"
   ]
  },
  {
   "cell_type": "code",
   "execution_count": 85,
   "metadata": {},
   "outputs": [
    {
     "name": "stdout",
     "output_type": "stream",
     "text": [
      "bird\n",
      "       class           order  max_speed\n",
      "falcon  bird   Falconiformes      389.0\n",
      "parrot  bird  Psittaciformes       24.0\n",
      "mammal\n",
      "          class      order  max_speed\n",
      "lion     mammal  Carnivora       80.2\n",
      "monkey   mammal   Primates        NaN\n",
      "leopard  mammal  Carnivora       58.0\n"
     ]
    }
   ],
   "source": [
    "#可以看到分成两组\n",
    "for name,group in grouped_func1:\n",
    "    print(name)\n",
    "    print(group)"
   ]
  },
  {
   "cell_type": "code",
   "execution_count": 36,
   "metadata": {},
   "outputs": [],
   "source": [
    "def classify_by_column(series):\n",
    "    if series in ['class']:\n",
    "        return 1\n",
    "    elif series in ['order']:\n",
    "        return 2\n",
    "    elif series in ['max_speed']:\n",
    "        return 3"
   ]
  },
  {
   "cell_type": "code",
   "execution_count": 37,
   "metadata": {},
   "outputs": [],
   "source": [
    "grouped_func2 = df1.groupby(classify_by_column,axis=1)\n",
    "#grouped_func2 = df1.groupby(classify_by_column,axis='column')"
   ]
  },
  {
   "cell_type": "code",
   "execution_count": 38,
   "metadata": {},
   "outputs": [
    {
     "name": "stdout",
     "output_type": "stream",
     "text": [
      "1\n",
      "          class\n",
      "falcon     bird\n",
      "parrot     bird\n",
      "lion     mammal\n",
      "monkey   mammal\n",
      "leopard  mammal\n",
      "2\n",
      "                  order\n",
      "falcon    Falconiformes\n",
      "parrot   Psittaciformes\n",
      "lion          Carnivora\n",
      "monkey         Primates\n",
      "leopard       Carnivora\n",
      "3\n",
      "         max_speed\n",
      "falcon       389.0\n",
      "parrot        24.0\n",
      "lion          80.2\n",
      "monkey         NaN\n",
      "leopard       58.0\n"
     ]
    }
   ],
   "source": [
    "#按列分成三列\n",
    "for name,group in grouped_func2:\n",
    "    print(name)\n",
    "    print(group)"
   ]
  },
  {
   "cell_type": "markdown",
   "metadata": {},
   "source": [
    "2.根据列表或numpy数组分组"
   ]
  },
  {
   "cell_type": "code",
   "execution_count": 39,
   "metadata": {},
   "outputs": [],
   "source": [
    "list1 = [0,0,1,1,2]\n",
    "grouped_list1 = df1.groupby(list1,axis=0)\n",
    "#grouped_list1 = df1.groupby(list1,axis='index')"
   ]
  },
  {
   "cell_type": "code",
   "execution_count": 40,
   "metadata": {},
   "outputs": [
    {
     "name": "stdout",
     "output_type": "stream",
     "text": [
      "0\n",
      "       class           order  max_speed\n",
      "falcon  bird   Falconiformes      389.0\n",
      "parrot  bird  Psittaciformes       24.0\n",
      "1\n",
      "         class      order  max_speed\n",
      "lion    mammal  Carnivora       80.2\n",
      "monkey  mammal   Primates        NaN\n",
      "2\n",
      "          class      order  max_speed\n",
      "leopard  mammal  Carnivora       58.0\n"
     ]
    }
   ],
   "source": [
    "for name, group in grouped_list1:\n",
    "    print(name)\n",
    "    print(group)"
   ]
  },
  {
   "cell_type": "code",
   "execution_count": 41,
   "metadata": {},
   "outputs": [],
   "source": [
    "list2 = [0,1,1]\n",
    "grouped_list2 = df1.groupby(list2,axis=1)\n",
    "#grouped_list2 = df1.groupby(list1,axis='column')"
   ]
  },
  {
   "cell_type": "code",
   "execution_count": 42,
   "metadata": {},
   "outputs": [
    {
     "name": "stdout",
     "output_type": "stream",
     "text": [
      "0\n",
      "          class\n",
      "falcon     bird\n",
      "parrot     bird\n",
      "lion     mammal\n",
      "monkey   mammal\n",
      "leopard  mammal\n",
      "1\n",
      "                  order  max_speed\n",
      "falcon    Falconiformes      389.0\n",
      "parrot   Psittaciformes       24.0\n",
      "lion          Carnivora       80.2\n",
      "monkey         Primates        NaN\n",
      "leopard       Carnivora       58.0\n"
     ]
    }
   ],
   "source": [
    "for name,group in grouped_list2:\n",
    "    print(name)\n",
    "    print(group)"
   ]
  },
  {
   "cell_type": "code",
   "execution_count": 43,
   "metadata": {},
   "outputs": [],
   "source": [
    "arr1 = np.array([0,0,1,1,2])\n",
    "grouped_arr1 = df1.groupby(arr1,axis=0)\n",
    "#grouped_arr1 = df1.groupby(arr1,axis='index')"
   ]
  },
  {
   "cell_type": "code",
   "execution_count": 44,
   "metadata": {},
   "outputs": [
    {
     "name": "stdout",
     "output_type": "stream",
     "text": [
      "0\n",
      "       class           order  max_speed\n",
      "falcon  bird   Falconiformes      389.0\n",
      "parrot  bird  Psittaciformes       24.0\n",
      "1\n",
      "         class      order  max_speed\n",
      "lion    mammal  Carnivora       80.2\n",
      "monkey  mammal   Primates        NaN\n",
      "2\n",
      "          class      order  max_speed\n",
      "leopard  mammal  Carnivora       58.0\n"
     ]
    }
   ],
   "source": [
    "for name,group in grouped_arr1:\n",
    "    print(name)\n",
    "    print(group)"
   ]
  },
  {
   "cell_type": "markdown",
   "metadata": {},
   "source": [
    "3.根据字典或Series分组\\\n",
    "（1）axis=0(默认),该字典的key(Series的index)为DataFrame的index的一个值，值是分类标签。\\\n",
    "（2）axis=1，该字典的key(Series的index)为DataFrame的column的一个值，值是分类标签。"
   ]
  },
  {
   "cell_type": "code",
   "execution_count": 56,
   "metadata": {},
   "outputs": [],
   "source": [
    "df2 = pd.DataFrame({'A':[1,2,3,4,5,6,7,8,9,10],'B':[11,12,13,14,15,16,17,18,19,20],'C':[21,22,23,24,25,26,27,28,29,30]})"
   ]
  },
  {
   "cell_type": "code",
   "execution_count": 57,
   "metadata": {},
   "outputs": [],
   "source": [
    "dict1 = {0:'a',1:'b',2:'a',3:'b',4:'a',5:'b',6:'a',7:'b',8:'a',9:'b'}"
   ]
  },
  {
   "cell_type": "code",
   "execution_count": 58,
   "metadata": {},
   "outputs": [],
   "source": [
    "grouped_dict1 = df2.groupby(dict1,axis=0)\n",
    "#grouped_dict1 = df2.groupby(dict1,axis='index')"
   ]
  },
  {
   "cell_type": "code",
   "execution_count": 59,
   "metadata": {},
   "outputs": [
    {
     "name": "stdout",
     "output_type": "stream",
     "text": [
      "a\n",
      "   A   B   C\n",
      "0  1  11  21\n",
      "2  3  13  23\n",
      "4  5  15  25\n",
      "6  7  17  27\n",
      "8  9  19  29\n",
      "b\n",
      "    A   B   C\n",
      "1   2  12  22\n",
      "3   4  14  24\n",
      "5   6  16  26\n",
      "7   8  18  28\n",
      "9  10  20  30\n"
     ]
    }
   ],
   "source": [
    "for name, group in grouped_dict1:\n",
    "    print(name)\n",
    "    print(group)"
   ]
  },
  {
   "cell_type": "code",
   "execution_count": 60,
   "metadata": {},
   "outputs": [],
   "source": [
    "dict2 = {'A':'a','B':'a','C':'b'}"
   ]
  },
  {
   "cell_type": "code",
   "execution_count": 61,
   "metadata": {},
   "outputs": [],
   "source": [
    "grouped_dict2 = df2.groupby(dict2,axis=1)\n",
    "#grouped_dict2 = df2.groupby(dict2,axis='column')"
   ]
  },
  {
   "cell_type": "code",
   "execution_count": 62,
   "metadata": {},
   "outputs": [
    {
     "name": "stdout",
     "output_type": "stream",
     "text": [
      "a\n",
      "    A   B\n",
      "0   1  11\n",
      "1   2  12\n",
      "2   3  13\n",
      "3   4  14\n",
      "4   5  15\n",
      "5   6  16\n",
      "6   7  17\n",
      "7   8  18\n",
      "8   9  19\n",
      "9  10  20\n",
      "b\n",
      "    C\n",
      "0  21\n",
      "1  22\n",
      "2  23\n",
      "3  24\n",
      "4  25\n",
      "5  26\n",
      "6  27\n",
      "7  28\n",
      "8  29\n",
      "9  30\n"
     ]
    }
   ],
   "source": [
    "for name, group in grouped_dict2:\n",
    "    print(name)\n",
    "    print(group)"
   ]
  },
  {
   "cell_type": "code",
   "execution_count": 63,
   "metadata": {},
   "outputs": [],
   "source": [
    "series1 = pd.Series({0:'a',1:'b',2:'a',3:'b',4:'a',5:'b',6:'a',7:'b',8:'a',9:'b'})  #字典转化为pandas.Series"
   ]
  },
  {
   "cell_type": "code",
   "execution_count": 67,
   "metadata": {},
   "outputs": [],
   "source": [
    "grouped_series1 = df2.groupby(series1,axis=0)\n",
    "#grouped_series1 = df2.groupby(series1,axis='index')"
   ]
  },
  {
   "cell_type": "code",
   "execution_count": 68,
   "metadata": {},
   "outputs": [
    {
     "name": "stdout",
     "output_type": "stream",
     "text": [
      "a\n",
      "   A   B   C\n",
      "0  1  11  21\n",
      "2  3  13  23\n",
      "4  5  15  25\n",
      "6  7  17  27\n",
      "8  9  19  29\n",
      "b\n",
      "    A   B   C\n",
      "1   2  12  22\n",
      "3   4  14  24\n",
      "5   6  16  26\n",
      "7   8  18  28\n",
      "9  10  20  30\n"
     ]
    }
   ],
   "source": [
    "for name, group in grouped_series1:\n",
    "    print(name)\n",
    "    print(group)"
   ]
  },
  {
   "cell_type": "code",
   "execution_count": 69,
   "metadata": {},
   "outputs": [],
   "source": [
    "series2 = pd.Series({'A':'a','B':'a','C':'b'})"
   ]
  },
  {
   "cell_type": "code",
   "execution_count": 71,
   "metadata": {},
   "outputs": [],
   "source": [
    "grouped_series2 = df2.groupby(series2,axis=1)\n",
    "#grouped_series2 = df2.groupby(series2,axis='column')"
   ]
  },
  {
   "cell_type": "code",
   "execution_count": 72,
   "metadata": {},
   "outputs": [
    {
     "name": "stdout",
     "output_type": "stream",
     "text": [
      "a\n",
      "    A   B\n",
      "0   1  11\n",
      "1   2  12\n",
      "2   3  13\n",
      "3   4  14\n",
      "4   5  15\n",
      "5   6  16\n",
      "6   7  17\n",
      "7   8  18\n",
      "8   9  19\n",
      "9  10  20\n",
      "b\n",
      "    C\n",
      "0  21\n",
      "1  22\n",
      "2  23\n",
      "3  24\n",
      "4  25\n",
      "5  26\n",
      "6  27\n",
      "7  28\n",
      "8  29\n",
      "9  30\n"
     ]
    }
   ],
   "source": [
    "for name,group in grouped_series2:\n",
    "    print(name)\n",
    "    print(group)"
   ]
  },
  {
   "cell_type": "markdown",
   "metadata": {},
   "source": [
    "4.对于DataFrame来说，按列名进行分组"
   ]
  },
  {
   "cell_type": "code",
   "execution_count": 73,
   "metadata": {},
   "outputs": [
    {
     "data": {
      "text/html": [
       "<div>\n",
       "<style scoped>\n",
       "    .dataframe tbody tr th:only-of-type {\n",
       "        vertical-align: middle;\n",
       "    }\n",
       "\n",
       "    .dataframe tbody tr th {\n",
       "        vertical-align: top;\n",
       "    }\n",
       "\n",
       "    .dataframe thead th {\n",
       "        text-align: right;\n",
       "    }\n",
       "</style>\n",
       "<table border=\"1\" class=\"dataframe\">\n",
       "  <thead>\n",
       "    <tr style=\"text-align: right;\">\n",
       "      <th></th>\n",
       "      <th>class</th>\n",
       "      <th>order</th>\n",
       "      <th>max_speed</th>\n",
       "    </tr>\n",
       "  </thead>\n",
       "  <tbody>\n",
       "    <tr>\n",
       "      <th>falcon</th>\n",
       "      <td>bird</td>\n",
       "      <td>Falconiformes</td>\n",
       "      <td>389.0</td>\n",
       "    </tr>\n",
       "    <tr>\n",
       "      <th>parrot</th>\n",
       "      <td>bird</td>\n",
       "      <td>Psittaciformes</td>\n",
       "      <td>24.0</td>\n",
       "    </tr>\n",
       "    <tr>\n",
       "      <th>lion</th>\n",
       "      <td>mammal</td>\n",
       "      <td>Carnivora</td>\n",
       "      <td>80.2</td>\n",
       "    </tr>\n",
       "    <tr>\n",
       "      <th>monkey</th>\n",
       "      <td>mammal</td>\n",
       "      <td>Primates</td>\n",
       "      <td>NaN</td>\n",
       "    </tr>\n",
       "    <tr>\n",
       "      <th>leopard</th>\n",
       "      <td>mammal</td>\n",
       "      <td>Carnivora</td>\n",
       "      <td>58.0</td>\n",
       "    </tr>\n",
       "  </tbody>\n",
       "</table>\n",
       "</div>"
      ],
      "text/plain": [
       "          class           order  max_speed\n",
       "falcon     bird   Falconiformes      389.0\n",
       "parrot     bird  Psittaciformes       24.0\n",
       "lion     mammal       Carnivora       80.2\n",
       "monkey   mammal        Primates        NaN\n",
       "leopard  mammal       Carnivora       58.0"
      ]
     },
     "execution_count": 73,
     "metadata": {},
     "output_type": "execute_result"
    }
   ],
   "source": [
    "df1"
   ]
  },
  {
   "cell_type": "code",
   "execution_count": 80,
   "metadata": {},
   "outputs": [],
   "source": [
    "grouped_class = df1.groupby('class',axis=0)\n",
    "#grouped_class = df1.groupby('class',axis='index')"
   ]
  },
  {
   "cell_type": "code",
   "execution_count": 81,
   "metadata": {},
   "outputs": [
    {
     "name": "stdout",
     "output_type": "stream",
     "text": [
      "bird\n",
      "       class           order  max_speed\n",
      "falcon  bird   Falconiformes      389.0\n",
      "parrot  bird  Psittaciformes       24.0\n",
      "mammal\n",
      "          class      order  max_speed\n",
      "lion     mammal  Carnivora       80.2\n",
      "monkey   mammal   Primates        NaN\n",
      "leopard  mammal  Carnivora       58.0\n"
     ]
    }
   ],
   "source": [
    "for name,group in grouped_class:\n",
    "    print(name)\n",
    "    print(group)"
   ]
  },
  {
   "cell_type": "code",
   "execution_count": 82,
   "metadata": {},
   "outputs": [],
   "source": [
    "grouped_order = df1.groupby('order',axis=0)\n",
    "#grouped_order = df1.groupby('order',axis='index')"
   ]
  },
  {
   "cell_type": "code",
   "execution_count": 83,
   "metadata": {},
   "outputs": [
    {
     "name": "stdout",
     "output_type": "stream",
     "text": [
      "Carnivora\n",
      "          class      order  max_speed\n",
      "lion     mammal  Carnivora       80.2\n",
      "leopard  mammal  Carnivora       58.0\n",
      "Falconiformes\n",
      "       class          order  max_speed\n",
      "falcon  bird  Falconiformes      389.0\n",
      "Primates\n",
      "         class     order  max_speed\n",
      "monkey  mammal  Primates        NaN\n",
      "Psittaciformes\n",
      "       class           order  max_speed\n",
      "parrot  bird  Psittaciformes       24.0\n"
     ]
    }
   ],
   "source": [
    "for name,group in grouped_order:\n",
    "    print(name)\n",
    "    print(group)"
   ]
  },
  {
   "cell_type": "markdown",
   "metadata": {},
   "source": [
    "当然，这种取列的方式也可以直接用某列的Series，但实际上，这种方式和之前的Series分组是一样。"
   ]
  },
  {
   "cell_type": "code",
   "execution_count": 88,
   "metadata": {},
   "outputs": [],
   "source": [
    "grouped_order_series = df1.groupby(df1['order'],axis=0)\n",
    "#grouped_order_series = df1.groupby(df1['order'],axis='index')"
   ]
  },
  {
   "cell_type": "code",
   "execution_count": 90,
   "metadata": {},
   "outputs": [
    {
     "name": "stdout",
     "output_type": "stream",
     "text": [
      "Carnivora\n",
      "          class      order  max_speed\n",
      "lion     mammal  Carnivora       80.2\n",
      "leopard  mammal  Carnivora       58.0\n",
      "Falconiformes\n",
      "       class          order  max_speed\n",
      "falcon  bird  Falconiformes      389.0\n",
      "Primates\n",
      "         class     order  max_speed\n",
      "monkey  mammal  Primates        NaN\n",
      "Psittaciformes\n",
      "       class           order  max_speed\n",
      "parrot  bird  Psittaciformes       24.0\n"
     ]
    }
   ],
   "source": [
    "for name,group in grouped_order_series:\n",
    "    print(name)\n",
    "    print(group)"
   ]
  },
  {
   "cell_type": "code",
   "execution_count": null,
   "metadata": {},
   "outputs": [],
   "source": []
  }
 ],
 "metadata": {
  "kernelspec": {
   "display_name": "Python 3",
   "language": "python",
   "name": "python3"
  },
  "language_info": {
   "codemirror_mode": {
    "name": "ipython",
    "version": 3
   },
   "file_extension": ".py",
   "mimetype": "text/x-python",
   "name": "python",
   "nbconvert_exporter": "python",
   "pygments_lexer": "ipython3",
   "version": "3.7.6"
  }
 },
 "nbformat": 4,
 "nbformat_minor": 4
}
